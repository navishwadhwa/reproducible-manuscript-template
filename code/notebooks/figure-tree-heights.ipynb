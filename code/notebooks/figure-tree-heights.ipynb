{
 "cells": [
  {
   "cell_type": "markdown",
   "metadata": {},
   "source": [
    "# Plot the figure\n",
    "\n",
    "This notebook generates the figure for the paper. Uses the raw data in `data` and the estimated stats in `results`."
   ]
  },
  {
   "cell_type": "code",
   "execution_count": 1,
   "metadata": {
    "execution": {
     "iopub.execute_input": "2021-03-04T02:20:32.920914Z",
     "iopub.status.busy": "2021-03-04T02:20:32.920914Z",
     "iopub.status.idle": "2021-03-04T02:20:33.717674Z",
     "shell.execute_reply": "2021-03-04T02:20:33.718173Z"
    }
   },
   "outputs": [],
   "source": [
    "%matplotlib inline\n",
    "import pandas as pd\n",
    "import numpy as np\n",
    "import matplotlib.pyplot as plt"
   ]
  },
  {
   "cell_type": "markdown",
   "metadata": {},
   "source": [
    "## Load the data and trend\n",
    "\n",
    "Load the raw data and the estimated trend as pandas.DataFrames."
   ]
  },
  {
   "cell_type": "code",
   "execution_count": 2,
   "metadata": {
    "execution": {
     "iopub.execute_input": "2021-03-04T02:20:33.722281Z",
     "iopub.status.busy": "2021-03-04T02:20:33.721181Z",
     "iopub.status.idle": "2021-03-04T02:20:33.729914Z",
     "shell.execute_reply": "2021-03-04T02:20:33.728915Z"
    }
   },
   "outputs": [],
   "source": [
    "df = pd.read_csv('../../data/trees.csv')\n",
    "df.columns = ['ID', 'girth', 'height', 'volume']\n",
    "stats = pd.read_csv('../../results/mean-data.csv')"
   ]
  },
  {
   "cell_type": "markdown",
   "metadata": {},
   "source": [
    "## Plot the figure and save it to EPS"
   ]
  },
  {
   "cell_type": "markdown",
   "metadata": {},
   "source": [
    "Create the figure using the proper size for a single column (about 3.5 inches). "
   ]
  },
  {
   "cell_type": "code",
   "execution_count": 3,
   "metadata": {
    "execution": {
     "iopub.execute_input": "2021-03-04T02:20:33.748083Z",
     "iopub.status.busy": "2021-03-04T02:20:33.748083Z",
     "iopub.status.idle": "2021-03-04T02:20:33.967217Z",
     "shell.execute_reply": "2021-03-04T02:20:33.967217Z"
    }
   },
   "outputs": [
    {
     "data": {
      "image/png": "[encoded data removed]",
      "text/plain": [
       "<Figure size 252x194.4 with 1 Axes>"
      ]
     },
     "metadata": {
      "needs_background": "light"
     },
     "output_type": "display_data"
    }
   ],
   "source": [
    "plt.figure(figsize=(3.5, 2.7))\n",
    "plt.plot(df.ID, df.height, '-', linewidth=1)\n",
    "plt.plot(df.ID, np.ones(len(df))*stats.height[0], '-')\n",
    "plt.grid(True)\n",
    "plt.xlabel('Tree ID')\n",
    "plt.ylabel('Height (ft)')\n",
    "plt.title(\"Tree heights\")\n",
    "plt.tight_layout()\n",
    "plt.savefig('../../manuscript/figures/tree-heights.eps')"
   ]
  },
  {
   "cell_type": "code",
   "execution_count": 5,
   "metadata": {},
   "outputs": [],
   "source": []
  }
 ],
 "metadata": {
  "kernelspec": {
   "display_name": "Python 3",
   "language": "python",
   "name": "python3"
  },
  "language_info": {
   "codemirror_mode": {
    "name": "ipython",
    "version": 3
   },
   "file_extension": ".py",
   "mimetype": "text/x-python",
   "name": "python",
   "nbconvert_exporter": "python",
   "pygments_lexer": "ipython3",
   "version": "3.8.5"
  }
 },
 "nbformat": 4,
 "nbformat_minor": 2
}
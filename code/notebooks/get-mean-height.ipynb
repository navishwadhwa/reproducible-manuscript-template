{
 "cells": [
  {
   "cell_type": "markdown",
   "metadata": {},
   "source": [
    "# Estimate a mean for the tree height data\n",
    "\n",
    "Use the data in `data/trees.csv` to estimate the mean tree height. Save the mean to `results/mean-height.csv`."
   ]
  },
  {
   "cell_type": "code",
   "execution_count": 1,
   "metadata": {
    "execution": {
     "iopub.execute_input": "2021-03-05T23:31:56.286637Z",
     "iopub.status.busy": "2021-03-05T23:31:56.285637Z",
     "iopub.status.idle": "2021-03-05T23:31:57.341690Z",
     "shell.execute_reply": "2021-03-05T23:31:57.341690Z"
    }
   },
   "outputs": [],
   "source": [
    "%matplotlib inline\n",
    "import pandas as pd\n",
    "import matplotlib.pyplot as plt"
   ]
  },
  {
   "cell_type": "markdown",
   "metadata": {},
   "source": [
    "## Load the data\n",
    "\n",
    "Read in the data as a pandas.DataFrame and show the first few rows."
   ]
  },
  {
   "cell_type": "code",
   "execution_count": 2,
   "metadata": {
    "execution": {
     "iopub.execute_input": "2021-03-05T23:31:57.345701Z",
     "iopub.status.busy": "2021-03-05T23:31:57.345701Z",
     "iopub.status.idle": "2021-03-05T23:31:57.370691Z",
     "shell.execute_reply": "2021-03-05T23:31:57.371700Z"
    }
   },
   "outputs": [
    {
     "data": {
      "text/html": [
       "<div>\n",
       "<style scoped>\n",
       "    .dataframe tbody tr th:only-of-type {\n",
       "        vertical-align: middle;\n",
       "    }\n",
       "\n",
       "    .dataframe tbody tr th {\n",
       "        vertical-align: top;\n",
       "    }\n",
       "\n",
       "    .dataframe thead th {\n",
       "        text-align: right;\n",
       "    }\n",
       "</style>\n",
       "<table border=\"1\" class=\"dataframe\">\n",
       "  <thead>\n",
       "    <tr style=\"text-align: right;\">\n",
       "      <th></th>\n",
       "      <th>ID</th>\n",
       "      <th>girth</th>\n",
       "      <th>height</th>\n",
       "      <th>volume</th>\n",
       "    </tr>\n",
       "  </thead>\n",
       "  <tbody>\n",
       "    <tr>\n",
       "      <th>0</th>\n",
       "      <td>1</td>\n",
       "      <td>8.3</td>\n",
       "      <td>70</td>\n",
       "      <td>10.3</td>\n",
       "    </tr>\n",
       "    <tr>\n",
       "      <th>1</th>\n",
       "      <td>2</td>\n",
       "      <td>8.6</td>\n",
       "      <td>65</td>\n",
       "      <td>10.3</td>\n",
       "    </tr>\n",
       "    <tr>\n",
       "      <th>2</th>\n",
       "      <td>3</td>\n",
       "      <td>8.8</td>\n",
       "      <td>63</td>\n",
       "      <td>10.2</td>\n",
       "    </tr>\n",
       "    <tr>\n",
       "      <th>3</th>\n",
       "      <td>4</td>\n",
       "      <td>10.5</td>\n",
       "      <td>72</td>\n",
       "      <td>16.4</td>\n",
       "    </tr>\n",
       "    <tr>\n",
       "      <th>4</th>\n",
       "      <td>5</td>\n",
       "      <td>10.7</td>\n",
       "      <td>81</td>\n",
       "      <td>18.8</td>\n",
       "    </tr>\n",
       "  </tbody>\n",
       "</table>\n",
       "</div>"
      ],
      "text/plain": [
       "   ID  girth  height  volume\n",
       "0   1    8.3      70    10.3\n",
       "1   2    8.6      65    10.3\n",
       "2   3    8.8      63    10.2\n",
       "3   4   10.5      72    16.4\n",
       "4   5   10.7      81    18.8"
      ]
     },
     "execution_count": 1,
     "metadata": {},
     "output_type": "execute_result"
    }
   ],
   "source": [
    "df = pd.read_csv('../../data/trees.csv')\n",
    "df.columns = ['ID', 'girth', 'height', 'volume']\n",
    "df.head()"
   ]
  },
  {
   "cell_type": "markdown",
   "metadata": {},
   "source": [
    "Make a quick plot."
   ]
  },
  {
   "cell_type": "code",
   "execution_count": 3,
   "metadata": {
    "execution": {
     "iopub.execute_input": "2021-03-05T23:31:57.384707Z",
     "iopub.status.busy": "2021-03-05T23:31:57.384707Z",
     "iopub.status.idle": "2021-03-05T23:31:57.581731Z",
     "shell.execute_reply": "2021-03-05T23:31:57.582732Z"
    }
   },
   "outputs": [
    {
     "data": {
      "image/png": "[encoded data removed]",
      "text/plain": [
       "<Figure size 432x288 with 1 Axes>"
      ]
     },
     "metadata": {
      "needs_background": "light"
     },
     "output_type": "display_data"
    }
   ],
   "source": [
    "plt.figure()\n",
    "plt.plot(df.ID, df.girth, '-')\n",
    "plt.grid()\n",
    "plt.xlabel('Tree ID')\n",
    "plt.ylabel('Girth (ft)')\n",
    "plt.title('Tree girth')\n",
    "plt.tight_layout()"
   ]
  },
  {
   "cell_type": "markdown",
   "metadata": {},
   "source": [
    "## Calculate the means\n"
   ]
  },
  {
   "cell_type": "code",
   "execution_count": 4,
   "metadata": {
    "execution": {
     "iopub.execute_input": "2021-03-05T23:31:57.587691Z",
     "iopub.status.busy": "2021-03-05T23:31:57.586691Z",
     "iopub.status.idle": "2021-03-05T23:31:57.593702Z",
     "shell.execute_reply": "2021-03-05T23:31:57.592691Z"
    }
   },
   "outputs": [
    {
     "name": "stdout",
     "output_type": "stream",
     "text": [
      "ID        16.000000\n",
      "girth     13.248387\n",
      "height    76.000000\n",
      "volume    30.170968\n",
      "dtype: float64\n"
     ]
    }
   ],
   "source": [
    "means = df.mean()\n",
    "# means = means.to_frame().T\n",
    "print(means)"
   ]
  },
  {
   "cell_type": "code",
   "execution_count": 5,
   "metadata": {
    "execution": {
     "iopub.execute_input": "2021-03-05T23:31:57.599692Z",
     "iopub.status.busy": "2021-03-05T23:31:57.598773Z",
     "iopub.status.idle": "2021-03-05T23:31:57.601690Z",
     "shell.execute_reply": "2021-03-05T23:31:57.600691Z"
    }
   },
   "outputs": [],
   "source": [
    "means = pd.DataFrame([[means.girth, means.height, means.volume]], columns=['girth', 'height', 'volume'])"
   ]
  },
  {
   "cell_type": "markdown",
   "metadata": {},
   "source": [
    "## Save the results\n",
    "\n",
    "Save the estimate trend to a CSV file."
   ]
  },
  {
   "cell_type": "code",
   "execution_count": 6,
   "metadata": {
    "execution": {
     "iopub.execute_input": "2021-03-05T23:31:57.604750Z",
     "iopub.status.busy": "2021-03-05T23:31:57.604750Z",
     "iopub.status.idle": "2021-03-05T23:31:57.611691Z",
     "shell.execute_reply": "2021-03-05T23:31:57.612701Z"
    }
   },
   "outputs": [],
   "source": [
    "means.to_csv('../../results/mean-data.csv')"
   ]
  },
  {
   "cell_type": "code",
   "execution_count": null,
   "metadata": {},
   "outputs": [],
   "source": []
  }
 ],
 "metadata": {
  "kernelspec": {
   "display_name": "Python 3",
   "language": "python",
   "name": "python3"
  },
  "language_info": {
   "codemirror_mode": {
    "name": "ipython",
    "version": 3
   },
   "file_extension": ".py",
   "mimetype": "text/x-python",
   "name": "python",
   "nbconvert_exporter": "python",
   "pygments_lexer": "ipython3",
   "version": "3.8.5"
  }
 },
 "nbformat": 4,
 "nbformat_minor": 4
}
